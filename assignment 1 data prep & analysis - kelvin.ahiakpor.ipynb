{
 "cells": [
  {
   "cell_type": "markdown",
   "id": "32e95989",
   "metadata": {},
   "source": [
    "# Assignment 1: Data Prep & Analysis - kelvin.ahiakpor"
   ]
  },
  {
   "cell_type": "markdown",
   "id": "d927df5d",
   "metadata": {},
   "source": [
    "### Imports"
   ]
  },
  {
   "cell_type": "code",
   "execution_count": 1,
   "id": "a632fe0c",
   "metadata": {},
   "outputs": [],
   "source": [
    "from bs4 import BeautifulSoup\n",
    "from datetime import datetime\n",
    "import matplotlib.pyplot as plt\n",
    "import pandas as pd\n",
    "import requests\n",
    "import re"
   ]
  },
  {
   "cell_type": "markdown",
   "id": "03baa12c",
   "metadata": {},
   "source": [
    "### Web Scraping"
   ]
  },
  {
   "cell_type": "code",
   "execution_count": null,
   "id": "c7951604",
   "metadata": {},
   "outputs": [],
   "source": [
    "url = 'https://en.wikipedia.org/wiki/List_of_presidents_of_the_United_States'\n",
    "\n",
    "page = requests.get(url)\n",
    "\n",
    "soup = BeautifulSoup(page.text, 'html')"
   ]
  },
  {
   "cell_type": "code",
   "execution_count": null,
   "id": "d5b5e07a",
   "metadata": {},
   "outputs": [],
   "source": [
    "table = soup.find('table')\n",
    "\n",
    "#print(table)\n",
    "#soup.find_all('th')[:7]"
   ]
  },
  {
   "cell_type": "markdown",
   "id": "a8623f20",
   "metadata": {},
   "source": [
    "##### Getting the column headings from soup as a list"
   ]
  },
  {
   "cell_type": "code",
   "execution_count": null,
   "id": "34f1e3c1",
   "metadata": {},
   "outputs": [],
   "source": [
    "#Getting the column headings from soup as a list\n",
    "presidential_entities = soup.find_all('th')[:7] #pick only the first 7 headers. the rest do not belong in the table\n",
    "\n",
    "presidential_entities = [entity.text.strip() for entity in presidential_entities]"
   ]
  },
  {
   "cell_type": "markdown",
   "id": "d7ca4a01",
   "metadata": {},
   "source": [
    "##### Cleaning column names using regular expressions"
   ]
  },
  {
   "cell_type": "code",
   "execution_count": null,
   "id": "6e4bd449",
   "metadata": {},
   "outputs": [],
   "source": [
    "#remove citation superscripts in square brackets\n",
    "presidential_entities = [re.sub(r'\\[.*?\\]', '', entity) for entity in presidential_entities] \n",
    "\n",
    "#remove Birth-Death string\n",
    "presidential_entities = [re.sub(r'\\(Birth–Death\\)', '', entity) for entity in presidential_entities] \n",
    "\n",
    "#exclude Portrait table column heading\n",
    "presidential_entities = [entity for entity in presidential_entities if entity != 'Portrait'] \n",
    "\n",
    "presidential_entities"
   ]
  },
  {
   "cell_type": "markdown",
   "id": "0049f5b4",
   "metadata": {},
   "source": [
    "### Creating the dataframe"
   ]
  },
  {
   "cell_type": "markdown",
   "id": "5c80b402",
   "metadata": {},
   "source": [
    "#### df is the dataframe that will be atomized further to answer the questions\n",
    "#### df2 is the dataframe that contains the exact table data from wikipedia"
   ]
  },
  {
   "cell_type": "code",
   "execution_count": null,
   "id": "3b36c702",
   "metadata": {},
   "outputs": [],
   "source": [
    "df = pd.DataFrame(columns = presidential_entities) #creating dataframe using presidential entity list as columns\n",
    "\n",
    "df2 = df.copy() #creating dataframe using presidential entity list as columns"
   ]
  },
  {
   "cell_type": "markdown",
   "id": "3447cdb2",
   "metadata": {},
   "source": [
    "### Populating the dataframe"
   ]
  },
  {
   "cell_type": "code",
   "execution_count": null,
   "id": "13d04ef9",
   "metadata": {},
   "outputs": [],
   "source": [
    "column_data = table.find_all('tr') #find table row tags"
   ]
  },
  {
   "cell_type": "code",
   "execution_count": null,
   "id": "fb6c7183",
   "metadata": {},
   "outputs": [],
   "source": [
    "#df = pd.DataFrame(columns = presidential_entities)\n",
    "#column_data = table.find_all('tr') #find table row tags\n",
    "#for row in column_data[1:]:\n",
    "#    row_data = row.find_all('td')\n",
    "#    individual_rows = [data.text.strip() for data in row_data]\n",
    "#    print(individual_rows)\n",
    "#.   length = len(df)\n",
    "#    df.loc[length] = individual_rows"
   ]
  },
  {
   "cell_type": "markdown",
   "id": "c3b6212c",
   "metadata": {},
   "source": [
    "##### Adding rows from the soup to the data frame and cleaning data with regular expresions and string methods using a loop"
   ]
  },
  {
   "cell_type": "code",
   "execution_count": null,
   "id": "249f9136",
   "metadata": {},
   "outputs": [],
   "source": [
    "for i,row in enumerate(column_data[1:]): #skip the ['1']\n",
    "    row_data = row.find_all('td')[1:]\n",
    "    individual_rows = [data.text.strip() for data in row_data]\n",
    "    individual_rows = [re.sub(r'\\[.*?\\]', '', row) for row in individual_rows] #remove superscripts on names\n",
    "    individual_rows = [row for row in individual_rows if row] #list-comprehension syntax to remove empty strings\n",
    "    individual_rows = [row.replace('\\n\\n', ' & ') for row in individual_rows] #placing & between multiple election years\n",
    "    individual_rows = [re.sub(r'– &', '', row) for row in individual_rows] #remove - & from single election years\n",
    "    individual_rows = [row.replace('\\xa0', ' ') for row in individual_rows]  #replacing non-breaking space with regular space\n",
    "    individual_rows = [row.replace('\\n', ' ') for row in individual_rows] #placing & between multiple election years\n",
    "    individual_rows = [re.sub(r'Vacant after[^\\&]*', '', row) for row in individual_rows]  # clean Vacant after from Vice President\n",
    "    individual_rows = [re.sub(r'Vacant throughout[^\\&]*', '', row) for row in individual_rows]  # clean Vacant throughout\n",
    "    individual_rows = [re.sub(r'Vacant through[^\\&]*', '', row) for row in individual_rows]  # clean Vacant through\n",
    "    individual_rows = [re.sub(r'Vacant:[^&]*', '', cell) for cell in individual_rows]  # Vacant:<date range>\n",
    "    individual_rows = [re.sub(r' & & ', ' & ', row) for row in individual_rows] #remove & & replace w &\n",
    "    individual_rows = [re.sub(r'^\\s*&\\s*', '', row) for row in individual_rows]  # remove & from the start vp name\n",
    "    individual_rows = [re.sub(r'\\s*&\\s*$', '', row) for row in individual_rows]  # Remove & from the end of vp names\n",
    "    individual_rows.insert(0, str(i+1)) #enumerating the rows by inserting their count number in the array\n",
    "    \n",
    "    #print(individual_rows)\n",
    "    \n",
    "    length = len(df)\n",
    "    \n",
    "    df.loc[length] = individual_rows\n",
    "    df2.loc[length] = individual_rows #or df2 = df.copy() in outer indent"
   ]
  },
  {
   "cell_type": "markdown",
   "id": "f18743d5",
   "metadata": {},
   "source": [
    "##### Further data cleaning and pre-processing for Question 5 & 11"
   ]
  },
  {
   "cell_type": "code",
   "execution_count": null,
   "id": "cef5b997",
   "metadata": {},
   "outputs": [],
   "source": [
    "#df = df2.copy() #prevents errors when this cell is run multiple times. otherwise comment out\n",
    "\n",
    "#create new column with Birth and Death Years\n",
    "birth_death_years = df['Name'].str.extract(r'\\((\\d{4})–(\\d{4})\\)')\n",
    "df[['Birth Year', 'Death Year']] = birth_death_years\n",
    "\n",
    "\n",
    "#edit NaN values in birthyear with presidents who are alive. Use[0] to extract and pass series to fill na.\n",
    "birth_years = df['Name'].str.extract(r'\\(b\\. (\\d{4})\\)')[0]\n",
    "df['Birth Year'] = df['Birth Year'].fillna(birth_years)\n",
    "\n",
    "#remove birth death information from Name series\n",
    "df['Name'] = df['Name'].str.replace(r'\\(\\d{4}–\\d{4}\\)', '', regex=True) #raw string pattern for (1913–2006)\n",
    "df['Name'] = df['Name'].str.replace(r'\\(b\\. \\d{4}\\)', '', regex=True) #raw string pattern for (b. 1942)\n",
    "\n",
    "df2['Name'] = df2['Name'].str.replace(r'\\(\\d{4}–\\d{4}\\)', '', regex=True) #raw string pattern for (1913–2006)\n",
    "df2['Name'] = df2['Name'].str.replace(r'\\(b\\. \\d{4}\\)', '', regex=True) #raw string pattern for (b. 1942)\n",
    "\n",
    "\n",
    "#extract date in and date out from term column. drop term column\n",
    "df[['Date In', 'Date Out']] = df['Term'].str.split('–', expand=True)\n",
    "df.drop('Term', axis = 1, inplace = True)\n",
    "\n",
    "# convert date columns to datetime using pandas. coerce to handle non date elements\n",
    "df['Date In'] = pd.to_datetime(df['Date In'], errors='coerce')\n",
    "df['Date Out'] = pd.to_datetime(df['Date Out'], errors='coerce')\n",
    "\n",
    "#filling NaN death years with current year\n",
    "current_date = datetime.now().year\n",
    "df['Death Year'] = df['Death Year'].fillna(current_date)"
   ]
  },
  {
   "cell_type": "markdown",
   "id": "bbe081b1",
   "metadata": {},
   "source": [
    "# Question 1\n",
    "Web Scraping"
   ]
  },
  {
   "cell_type": "code",
   "execution_count": null,
   "id": "06959596",
   "metadata": {},
   "outputs": [],
   "source": [
    "df2"
   ]
  },
  {
   "cell_type": "markdown",
   "id": "4a50257b",
   "metadata": {},
   "source": [
    "# Question 2\n",
    "Number of presidents"
   ]
  },
  {
   "cell_type": "code",
   "execution_count": null,
   "id": "28f9f6bc",
   "metadata": {},
   "outputs": [],
   "source": [
    "num_presidents = df['Name'].nunique()\n",
    "print(f\"There are {num_presidents} United States of America presidents on the webpage\")"
   ]
  },
  {
   "cell_type": "markdown",
   "id": "a28abb74",
   "metadata": {},
   "source": [
    "# Question 3\n",
    "Number of presidencies"
   ]
  },
  {
   "cell_type": "code",
   "execution_count": null,
   "id": "ce518fac",
   "metadata": {},
   "outputs": [],
   "source": [
    "num_presidencies = df['No.'].nunique()\n",
    "print(f\"There have been {num_presidencies} preisdencies in the United States of America till date\")"
   ]
  },
  {
   "cell_type": "markdown",
   "id": "f7cff90b",
   "metadata": {},
   "source": [
    "# Question 4\n",
    "Presidents who served more than 1 term with the same vice president"
   ]
  },
  {
   "cell_type": "code",
   "execution_count": null,
   "id": "7e35bddd",
   "metadata": {},
   "outputs": [],
   "source": [
    "duration = (df['Date Out'] - df['Date In']).dt.days\n",
    "\n",
    "for index, row in df.iterrows():\n",
    "    p = row['Name']\n",
    "    election = row['Election']\n",
    "    term = df2['Term'].iloc[index]\n",
    "    vp = row['Vice President']\n",
    "    time = duration[index] \n",
    "    \n",
    "    # Check if the president served more than 1 term (duration > 1461 days) and had only one vice president\n",
    "    if time > 1461 and '&' not in vp:\n",
    "        print(f\"{p} had served more than 1 term: {term} days with one vice president: {vp}\\n\")"
   ]
  },
  {
   "cell_type": "markdown",
   "id": "3d481a5b",
   "metadata": {},
   "source": [
    "# Question 5\n",
    "President with the longest term"
   ]
  },
  {
   "cell_type": "code",
   "execution_count": null,
   "id": "8d5d133f",
   "metadata": {},
   "outputs": [],
   "source": [
    "service_duration = df['Date Out'].dt.year - df['Date In'].dt.year #create standalone series with service durations\n",
    "longest_serving_president = df.loc[service_duration.idxmax()] #return index of max duration into loc to return row\n",
    "print(f\"The longest serving president was {longest_serving_president['Name']}, \" + \n",
    "      f\"he served {int((service_duration.iloc[service_duration.idxmax()])/4)} terms \" +\n",
    "      f\"and entered office in {df['Date In'].dt.date.iloc[service_duration.idxmax()]}. \\n\" + \n",
    "      f\"He was elected to office in {df['Election'].iloc[service_duration.idxmax()]}. \"+\n",
    "      f\"If he had not died in 1945, he would have served his 4th term.\")"
   ]
  },
  {
   "cell_type": "markdown",
   "id": "9b3adc89",
   "metadata": {},
   "source": [
    "# Question 6\n",
    "Presidents who served as vice presidents"
   ]
  },
  {
   "cell_type": "code",
   "execution_count": null,
   "id": "7d7d53c6",
   "metadata": {},
   "outputs": [],
   "source": [
    "vice_presidents = []\n",
    "# iterate over each row in the Vice President Series\n",
    "for vp in df['Vice President'].dropna(): #ignore null entries\n",
    "    # split the vp string by & and append each name to the list\n",
    "    for name in vp.split('&'):\n",
    "        vice_presidents.append(name.strip()) #remove trailing and leading whitespaces\n",
    "    \n",
    "presidents = []\n",
    "# iterate over each row in the President Series\n",
    "for p in df['Name']:\n",
    "    # split the string by & and append each name to the list\n",
    "    presidents.append(p.strip()) #remove trailing and leading whitespaces\n",
    "    \n",
    "vps_to_presidents = []\n",
    "\n",
    "for vp in vice_presidents:\n",
    "    if vp in presidents:\n",
    "        vps_to_presidents.append(vp)\n",
    "        \n",
    "#df2['Term'].iloc[df2.index[df2['Name'] == 'John Adams']].iloc[0] #last iloc[0] is very important\n",
    "presidency_service = [df2['Term'].iloc[df2.index[df2['Name'] == name]].iloc[0] for name in vps_to_presidents]\n",
    "\n",
    "#vp_service = [df2['Term'].iloc[df2.index[df2['Vice President'] == name]].iloc[0] for name in vps_to_presidents]\n",
    "vp_service = []\n",
    "\n",
    "for name in vps_to_presidents:\n",
    "    #using boolean indexing for series to filter rows that have the current vp name in the VP column\n",
    "    #boolean condition\n",
    "    is_name_in_vp_column = df2['Vice President'].str.contains(name, na=False)\n",
    "    filtered_rows = df2[is_name_in_vp_column] #boolean series\n",
    "    \n",
    "    if not filtered_rows.empty:\n",
    "        term = filtered_rows['Term'].iloc[0]\n",
    "        vp_service.append(term)\n",
    "        \n",
    "#print(f'Presidents who were vice presidents: {\", \".join(vps_to_presidents)}')\n",
    "print(f'Presidents who were vice presidents.')\n",
    "\n",
    "for vp, vp_period, p_period in zip(vps_to_presidents,vp_service,presidency_service):\n",
    "    print(vp + \" served as vice from \" + vp_period + \" and served presidency from \" + p_period +\".\\n\")\n",
    "\n",
    "    \n",
    "#presidency_service \n",
    "#vp_service\n",
    "\n",
    "#df2['Term'].iloc[df2.index[df2['Vice President'] == 'John Adams']].iloc[0]\n",
    "#this causes an error hence the need for the longer for loop\n",
    "#df2['Term'].iloc[df2.index[df2['Vice President'] == 'Gerald Ford']].iloc[0] "
   ]
  },
  {
   "cell_type": "markdown",
   "id": "86fc744a",
   "metadata": {},
   "source": [
    "# Question 7\n",
    "Presidents who were never elected"
   ]
  },
  {
   "cell_type": "code",
   "execution_count": null,
   "id": "8fffbb64",
   "metadata": {
    "scrolled": true
   },
   "outputs": [],
   "source": [
    "count = 0\n",
    "for index, row in df2.iterrows():\n",
    "    prez = row['Name']\n",
    "    term = row['Term']\n",
    "    if row['Election'] == '–':\n",
    "        count += 1\n",
    "        print(f\"{prez} was never elected. However, his term was from {term}.\\n\")\n",
    "print(f\"In total, {count} presidents were never elected.\")"
   ]
  },
  {
   "cell_type": "markdown",
   "id": "09d8ab91",
   "metadata": {},
   "source": [
    "# Question 8\n",
    "Presidents who have the same forenames or surnames"
   ]
  },
  {
   "cell_type": "code",
   "execution_count": null,
   "id": "0a4de0da",
   "metadata": {},
   "outputs": [],
   "source": [
    "#create list of all names\n",
    "full_names = df['Name'].tolist()\n",
    "#full_names = [name for name in full_names if full_names.count(name) < 2] #remove the duplicate\n",
    "#full_names = [name[0]+name[-1] for name.split(':') in full_names]\n",
    "for i, name in enumerate(full_names):\n",
    "    names_list = name.split(' ')\n",
    "    full_names[i] = str(i) + ' ' + names_list[0]+ ' ' +names_list[-1]\n",
    "\n",
    "#create histogram dictionary of forenames\n",
    "forenames = {} #president name histogram\n",
    "forenames_list = {}\n",
    "for prez in full_names:\n",
    "    forenames[prez.split(' ')[1]] = forenames.get(prez.split(' ')[1],0)+1\n",
    "    forenames_list[prez.split(' ')[0]] = prez.split(' ')[1]\n",
    "    #same_first_names\n",
    "    \n",
    "#create histogram dictionary of surnames\n",
    "surnames = {} #president name histogram\n",
    "surnames_list = {}\n",
    "for prez in full_names:\n",
    "    surnames[prez.split(' ')[2]] = surnames.get(prez.split(' ')[2],0)+1\n",
    "    surnames_list[prez.split(' ')[0]] = prez.split(' ')[2]\n",
    "    \n",
    "#create list of same forenames\n",
    "#same_forename_count = 0\n",
    "same_forenames = []\n",
    "same_forenames_idx = []\n",
    "for i in forenames:\n",
    "    if forenames[i]>1:\n",
    "        #same_forename_count += forenames[i]\n",
    "        same_forenames.append(i)\n",
    "        #print(i)\n",
    "        for index in forenames_list:\n",
    "            if forenames_list[index] == i:\n",
    "                same_forenames_idx.append(int(index))\n",
    "\n",
    "\n",
    "#print(same_forenames)   \n",
    "#print(same_forenames_idx) \n",
    "#print('')\n",
    "\n",
    "#create list of same surnames\n",
    "#same_surname_count = 0\n",
    "same_surnames = []\n",
    "same_surnames_idx = []\n",
    "for i in surnames:\n",
    "    if surnames[i]>1:\n",
    "        #same_surname_count += surnames[i]\n",
    "        same_surnames.append(i)\n",
    "        #print(i)\n",
    "        for index in surnames_list:\n",
    "            if surnames_list[index] == i:\n",
    "                same_surnames_idx.append(int(index))\n",
    "                \n",
    "#print(same_surnames)  \n",
    "#print(same_surnames_idx) \n",
    "\n",
    "# for i in same_forenames:\n",
    "#     print(df['Name'].iloc[df.index[df['Name'] == name]].iloc[0] for name in forenames_list)\n",
    "\n",
    "same_forenames = [df['Name'].iloc[idx] for idx in same_forenames_idx]\n",
    "same_surnames = [df['Name'].iloc[idx] for idx in same_surnames_idx]\n",
    "\n",
    "# converting the lists to a set to remove duplicates then back to a list and sorting them afterwards\n",
    "same_forenames = sorted(list(set(same_forenames)))\n",
    "same_surnames = sorted(list(set(same_surnames)), key=lambda x: x.split()[-1]) #sort on last name w lambda function\n",
    "\n",
    "# removing Grover Clevelan from the lists\n",
    "if 'Grover Cleveland' in same_forenames:\n",
    "    same_forenames.remove('Grover Cleveland')\n",
    "if 'Grover Cleveland' in same_surnames:\n",
    "    same_surnames.remove('Grover Cleveland')\n",
    "        \n",
    "print(\"These are the names of presidents with the same forenames and when they served in office\\n\")\n",
    "for i,name in enumerate(same_forenames):\n",
    "    print(name + ' ||| served from ' + df2['Term'].iloc[same_forenames_idx[i]])\n",
    "    \n",
    "print('')\n",
    "\n",
    "print(\"These are the names of presidents with the same surnames and when they served in office\\n\")\n",
    "for i,name in enumerate(same_surnames):\n",
    "    print(name + ' ||| served from ' + df2['Term'].iloc[same_surnames_idx[i]])"
   ]
  },
  {
   "cell_type": "markdown",
   "id": "c0fb97da",
   "metadata": {},
   "source": [
    "# Question 9\n",
    "Oldest president ever elected for office"
   ]
  },
  {
   "cell_type": "code",
   "execution_count": null,
   "id": "5e4e1e1a",
   "metadata": {},
   "outputs": [],
   "source": [
    "year_in = df['Date In'].dt.year\n",
    "birth_year = pd.to_datetime(df['Birth Year'],format='%Y').dt.year\n",
    "oldest_index = (year_in - birth_year).idxmax()\n",
    "\n",
    "#creating a new data frame to verify result of index 45\n",
    "df_election_age = pd.DataFrame({'Date In': year_in, 'Birth Year': birth_year})\n",
    "df_election_age['Election Age'] = year_in - birth_year\n",
    "\n",
    "print(f\"{df['Name'].iloc[oldest_index]} is the oldest president ever elected for office, \" +\n",
    "      f\"he got in office {df['Date In'].dt.year.iloc[oldest_index]}, \" +\n",
    "      f\"he ended {df['Date Out'].dt.date.iloc[oldest_index] if pd.notna(df['Date Out'].iloc[oldest_index]) else 'not yet'} and his tenure lasted \" + \n",
    "      f\"{df['Date Out'].dt.year.iloc[oldest_index] - df['Date In'].dt.year.iloc[oldest_index] if pd.notna(df['Date Out'].iloc[oldest_index]) else (datetime.now().year-year_in.iloc[oldest_index])} years\")"
   ]
  },
  {
   "cell_type": "markdown",
   "id": "d73b1070",
   "metadata": {},
   "source": [
    "# Question 10\n",
    "Youngest president ever elected for office"
   ]
  },
  {
   "cell_type": "code",
   "execution_count": null,
   "id": "d1a70bfb",
   "metadata": {
    "scrolled": true
   },
   "outputs": [],
   "source": [
    "year_in = df['Date In'].dt.year\n",
    "birth_year = pd.to_datetime(df['Birth Year'],format='%Y').dt.year\n",
    "youngest_index = (year_in - birth_year).idxmin() #this equals 25\n",
    "\n",
    "print(f\"{df['Name'].iloc[youngest_index]} is the youngest president ever elected for office, \" +\n",
    "      f\"he got in office {df['Date In'].dt.year.iloc[youngest_index]}, \" +\n",
    "      f\"he ended {int(df['Date Out'].dt.year.iloc[youngest_index])} and his tenure lasted \" + \n",
    "      f\"{int(df['Date Out'].dt.year.iloc[youngest_index]-df['Date In'].dt.year.iloc[youngest_index])} years\")"
   ]
  },
  {
   "cell_type": "markdown",
   "id": "8ba0bccb",
   "metadata": {},
   "source": [
    "# Question 11\n",
    "President who lived very long after leaving office"
   ]
  },
  {
   "cell_type": "code",
   "execution_count": null,
   "id": "b5d510de",
   "metadata": {},
   "outputs": [],
   "source": [
    "year_out = df['Date Out'].dt.year\n",
    "death_year = pd.to_datetime(df['Death Year'],format='%Y').dt.year\n",
    "longest_living = (death_year - year_out).idxmax()\n",
    "\n",
    "#creating a new data frame to verify result of index 8\n",
    "# df_longevity = pd.DataFrame({'Date Out': year_out, 'Death Year': death_year})\n",
    "# df_longevity['Years Lived After Office'] = death_year - year_out\n",
    "# df_longevity\n",
    "\n",
    "print(f\"{df['Name'].iloc[longest_living]} is the president who has lived longest after leaving office, \" +\n",
    "      f\"he left office on {df['Date Out'].dt.date.iloc[longest_living]}, \" +\n",
    "      f\"he was alive for {int((death_year - year_out).iloc[longest_living])} years after leaving office.\")"
   ]
  },
  {
   "cell_type": "markdown",
   "id": "1acdf6f7",
   "metadata": {},
   "source": [
    "# Question 12\n",
    "Graph of political party against number of presidents elected"
   ]
  },
  {
   "cell_type": "code",
   "execution_count": null,
   "id": "cb51385b",
   "metadata": {},
   "outputs": [],
   "source": [
    "party_counts = df['Party'].value_counts().reset_index()\n",
    "\n",
    "party_counts.columns = ['Political Party', 'Number of Presidents']\n",
    "\n",
    "party_counts.plot.bar(x='Political Party', y='Number of Presidents', rot=0, figsize=(30, 10))\n",
    "\n",
    "max_party = party_counts['Number of Presidents'].idxmax()\n",
    "\n",
    "print(f\"The party with the most presidents is the {party_counts['Political Party'].iloc[max_party]} party with \" + \n",
    "      f\"{party_counts['Number of Presidents'].iloc[max_party]} presidents elected\")"
   ]
  },
  {
   "cell_type": "markdown",
   "id": "2258972e",
   "metadata": {},
   "source": [
    "# References\n",
    "\n",
    "Geeks For Geeks. (2020, July 1). Find maximum values & position in columns and rows of a Dataframe in Pandas. GeeksforGeeks. https://www.geeksforgeeks.org/find-maximum-values-position-in-columns-and-rows-of-a-dataframe-in-pandas/\n",
    "\n",
    "Mode. (2016, May 23). How to Filter Data with Boolean Indexes in Python | Python Analysis Tutorial - Mode. Mode Resources. https://mode.com/python-tutorial/python-filtering-with-boolean-indexes\n",
    "\n",
    "Pandas. (n.d.). pandas.DataFrame.groupby — pandas 1.2.4 documentation. Pandas.pydata.org. Retrieved May 30, 2024, from https://pandas.pydata.org/docs/reference/api/pandas.DataFrame.groupby.html\n",
    "\n",
    "Python. (n.d.). re — Regular expression operations. Python Documentation. Retrieved May 30, 2024, from https://docs.python.org/3/library/re.html#raw-string-notation\n",
    "\n",
    "Saturn Cloud. (2023, December 19). How to Convert Strings in a Pandas Dataframe to a Date Data Type | Saturn Cloud Blog. Saturncloud.io. https://saturncloud.io/blog/how-to-convert-strings-in-a-pandas-data-frame-to-a-date-data-type/#:~:text=The%20to_datetime()%20function%20is\n",
    "\n",
    "StackOverflow. (n.d.). How can I iterate over rows in a Pandas DataFrame? Stack Overflow. Retrieved May 30, 2024, from https://stackoverflow.com/questions/16476924/how-can-i-iterate-over-rows-in-a-pandas-dataframe\n",
    "\n",
    "Vijetha. (2022, November 24). Pandas Extract Year from Datetime. Spark by {Examples}. https://sparkbyexamples.com/pandas/pandas-extract-year-from-datetime/#"
   ]
  }
 ],
 "metadata": {
  "kernelspec": {
   "display_name": "Python 3 (ipykernel)",
   "language": "python",
   "name": "python3"
  },
  "language_info": {
   "codemirror_mode": {
    "name": "ipython",
    "version": 3
   },
   "file_extension": ".py",
   "mimetype": "text/x-python",
   "name": "python",
   "nbconvert_exporter": "python",
   "pygments_lexer": "ipython3",
   "version": "3.11.7"
  }
 },
 "nbformat": 4,
 "nbformat_minor": 5
}
